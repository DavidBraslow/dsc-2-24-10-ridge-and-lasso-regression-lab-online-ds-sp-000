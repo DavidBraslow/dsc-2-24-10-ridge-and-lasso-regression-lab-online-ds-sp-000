{
 "cells": [
  {
   "cell_type": "markdown",
   "metadata": {},
   "source": [
    "# Ridge and Lasso Regression - Lab"
   ]
  },
  {
   "cell_type": "markdown",
   "metadata": {},
   "source": [
    "## Introduction"
   ]
  },
  {
   "cell_type": "markdown",
   "metadata": {},
   "source": [
    "In this lab, you'll practice your knowledge on Ridge and Lasso regression!"
   ]
  },
  {
   "cell_type": "markdown",
   "metadata": {},
   "source": [
    "## Objectives"
   ]
  },
  {
   "cell_type": "markdown",
   "metadata": {},
   "source": [
    "You will be able to:"
   ]
  },
  {
   "cell_type": "markdown",
   "metadata": {},
   "source": [
    "- Use Lasso and ridge regression in Python\n",
    "- Compare Lasso and Ridge with standard regression"
   ]
  },
  {
   "cell_type": "markdown",
   "metadata": {},
   "source": [
    "## Housing Prices Data"
   ]
  },
  {
   "cell_type": "markdown",
   "metadata": {},
   "source": [
    "Let's look at yet another house pricing data set."
   ]
  },
  {
   "cell_type": "code",
   "execution_count": 1,
   "metadata": {},
   "outputs": [],
   "source": [
    "import pandas as pd\n",
    "import warnings\n",
    "warnings.filterwarnings('ignore')\n",
    "\n",
    "df = pd.read_csv('Housing_Prices/train.csv')"
   ]
  },
  {
   "cell_type": "markdown",
   "metadata": {},
   "source": [
    "Look at df.info"
   ]
  },
  {
   "cell_type": "code",
   "execution_count": 2,
   "metadata": {},
   "outputs": [
    {
     "name": "stdout",
     "output_type": "stream",
     "text": [
      "<class 'pandas.core.frame.DataFrame'>\n",
      "RangeIndex: 1460 entries, 0 to 1459\n",
      "Data columns (total 81 columns):\n",
      "Id               1460 non-null int64\n",
      "MSSubClass       1460 non-null int64\n",
      "MSZoning         1460 non-null object\n",
      "LotFrontage      1201 non-null float64\n",
      "LotArea          1460 non-null int64\n",
      "Street           1460 non-null object\n",
      "Alley            91 non-null object\n",
      "LotShape         1460 non-null object\n",
      "LandContour      1460 non-null object\n",
      "Utilities        1460 non-null object\n",
      "LotConfig        1460 non-null object\n",
      "LandSlope        1460 non-null object\n",
      "Neighborhood     1460 non-null object\n",
      "Condition1       1460 non-null object\n",
      "Condition2       1460 non-null object\n",
      "BldgType         1460 non-null object\n",
      "HouseStyle       1460 non-null object\n",
      "OverallQual      1460 non-null int64\n",
      "OverallCond      1460 non-null int64\n",
      "YearBuilt        1460 non-null int64\n",
      "YearRemodAdd     1460 non-null int64\n",
      "RoofStyle        1460 non-null object\n",
      "RoofMatl         1460 non-null object\n",
      "Exterior1st      1460 non-null object\n",
      "Exterior2nd      1460 non-null object\n",
      "MasVnrType       1452 non-null object\n",
      "MasVnrArea       1452 non-null float64\n",
      "ExterQual        1460 non-null object\n",
      "ExterCond        1460 non-null object\n",
      "Foundation       1460 non-null object\n",
      "BsmtQual         1423 non-null object\n",
      "BsmtCond         1423 non-null object\n",
      "BsmtExposure     1422 non-null object\n",
      "BsmtFinType1     1423 non-null object\n",
      "BsmtFinSF1       1460 non-null int64\n",
      "BsmtFinType2     1422 non-null object\n",
      "BsmtFinSF2       1460 non-null int64\n",
      "BsmtUnfSF        1460 non-null int64\n",
      "TotalBsmtSF      1460 non-null int64\n",
      "Heating          1460 non-null object\n",
      "HeatingQC        1460 non-null object\n",
      "CentralAir       1460 non-null object\n",
      "Electrical       1459 non-null object\n",
      "1stFlrSF         1460 non-null int64\n",
      "2ndFlrSF         1460 non-null int64\n",
      "LowQualFinSF     1460 non-null int64\n",
      "GrLivArea        1460 non-null int64\n",
      "BsmtFullBath     1460 non-null int64\n",
      "BsmtHalfBath     1460 non-null int64\n",
      "FullBath         1460 non-null int64\n",
      "HalfBath         1460 non-null int64\n",
      "BedroomAbvGr     1460 non-null int64\n",
      "KitchenAbvGr     1460 non-null int64\n",
      "KitchenQual      1460 non-null object\n",
      "TotRmsAbvGrd     1460 non-null int64\n",
      "Functional       1460 non-null object\n",
      "Fireplaces       1460 non-null int64\n",
      "FireplaceQu      770 non-null object\n",
      "GarageType       1379 non-null object\n",
      "GarageYrBlt      1379 non-null float64\n",
      "GarageFinish     1379 non-null object\n",
      "GarageCars       1460 non-null int64\n",
      "GarageArea       1460 non-null int64\n",
      "GarageQual       1379 non-null object\n",
      "GarageCond       1379 non-null object\n",
      "PavedDrive       1460 non-null object\n",
      "WoodDeckSF       1460 non-null int64\n",
      "OpenPorchSF      1460 non-null int64\n",
      "EnclosedPorch    1460 non-null int64\n",
      "3SsnPorch        1460 non-null int64\n",
      "ScreenPorch      1460 non-null int64\n",
      "PoolArea         1460 non-null int64\n",
      "PoolQC           7 non-null object\n",
      "Fence            281 non-null object\n",
      "MiscFeature      54 non-null object\n",
      "MiscVal          1460 non-null int64\n",
      "MoSold           1460 non-null int64\n",
      "YrSold           1460 non-null int64\n",
      "SaleType         1460 non-null object\n",
      "SaleCondition    1460 non-null object\n",
      "SalePrice        1460 non-null int64\n",
      "dtypes: float64(3), int64(35), object(43)\n",
      "memory usage: 924.0+ KB\n"
     ]
    }
   ],
   "source": [
    "# Your code here\n",
    "df.info()"
   ]
  },
  {
   "cell_type": "markdown",
   "metadata": {},
   "source": [
    "We'll make a first selection of the data by removing some of the data with `dtype = object`, this way our first model only contains **continuous features**\n",
    "\n",
    "Make sure to remove the SalesPrice column from the predictors (which you store in `X`), then replace missing inputs by the median per feature.\n",
    "\n",
    "Store the target in `y`."
   ]
  },
  {
   "cell_type": "code",
   "execution_count": 12,
   "metadata": {},
   "outputs": [
    {
     "data": {
      "text/plain": [
       "0    208500\n",
       "1    181500\n",
       "2    223500\n",
       "3    140000\n",
       "4    250000\n",
       "Name: SalePrice, dtype: int64"
      ]
     },
     "execution_count": 12,
     "metadata": {},
     "output_type": "execute_result"
    }
   ],
   "source": [
    "# Load necessary packages\n",
    "import numpy as np\n",
    "\n",
    "# remove \"object\"-type features and SalesPrice from `X`\n",
    "X = df.select_dtypes(exclude='object').drop('SalePrice', axis = 1)\n",
    "\n",
    "# Impute null values\n",
    "X = X.fillna(X.median())\n",
    "\n",
    "# Create y\n",
    "y = df['SalePrice']\n",
    "y.head()"
   ]
  },
  {
   "cell_type": "markdown",
   "metadata": {},
   "source": [
    "Look at the information of `X` again"
   ]
  },
  {
   "cell_type": "code",
   "execution_count": 13,
   "metadata": {},
   "outputs": [
    {
     "name": "stdout",
     "output_type": "stream",
     "text": [
      "<class 'pandas.core.frame.DataFrame'>\n",
      "RangeIndex: 1460 entries, 0 to 1459\n",
      "Data columns (total 37 columns):\n",
      "Id               1460 non-null int64\n",
      "MSSubClass       1460 non-null int64\n",
      "LotFrontage      1460 non-null float64\n",
      "LotArea          1460 non-null int64\n",
      "OverallQual      1460 non-null int64\n",
      "OverallCond      1460 non-null int64\n",
      "YearBuilt        1460 non-null int64\n",
      "YearRemodAdd     1460 non-null int64\n",
      "MasVnrArea       1460 non-null float64\n",
      "BsmtFinSF1       1460 non-null int64\n",
      "BsmtFinSF2       1460 non-null int64\n",
      "BsmtUnfSF        1460 non-null int64\n",
      "TotalBsmtSF      1460 non-null int64\n",
      "1stFlrSF         1460 non-null int64\n",
      "2ndFlrSF         1460 non-null int64\n",
      "LowQualFinSF     1460 non-null int64\n",
      "GrLivArea        1460 non-null int64\n",
      "BsmtFullBath     1460 non-null int64\n",
      "BsmtHalfBath     1460 non-null int64\n",
      "FullBath         1460 non-null int64\n",
      "HalfBath         1460 non-null int64\n",
      "BedroomAbvGr     1460 non-null int64\n",
      "KitchenAbvGr     1460 non-null int64\n",
      "TotRmsAbvGrd     1460 non-null int64\n",
      "Fireplaces       1460 non-null int64\n",
      "GarageYrBlt      1460 non-null float64\n",
      "GarageCars       1460 non-null int64\n",
      "GarageArea       1460 non-null int64\n",
      "WoodDeckSF       1460 non-null int64\n",
      "OpenPorchSF      1460 non-null int64\n",
      "EnclosedPorch    1460 non-null int64\n",
      "3SsnPorch        1460 non-null int64\n",
      "ScreenPorch      1460 non-null int64\n",
      "PoolArea         1460 non-null int64\n",
      "MiscVal          1460 non-null int64\n",
      "MoSold           1460 non-null int64\n",
      "YrSold           1460 non-null int64\n",
      "dtypes: float64(3), int64(34)\n",
      "memory usage: 422.1 KB\n",
      "None\n"
     ]
    }
   ],
   "source": [
    "print(X.info())\n"
   ]
  },
  {
   "cell_type": "markdown",
   "metadata": {},
   "source": [
    "## Let's use this data to perform a first naive linear regression model"
   ]
  },
  {
   "cell_type": "markdown",
   "metadata": {},
   "source": [
    "Compute the R squared and the MSE for both train and test set."
   ]
  },
  {
   "cell_type": "code",
   "execution_count": 20,
   "metadata": {},
   "outputs": [
    {
     "name": "stdout",
     "output_type": "stream",
     "text": [
      "0.8118554543955108 1090644660.2119048\n",
      "0.7849696889294515 1578621667.9588947\n"
     ]
    }
   ],
   "source": [
    "from sklearn.metrics import mean_squared_error, mean_squared_log_error\n",
    "from sklearn.model_selection import train_test_split\n",
    "from sklearn.linear_model import LinearRegression\n",
    "\n",
    "# Split in train and test\n",
    "X_train, X_test, y_train, y_test = train_test_split(X, y, test_size=0.33, random_state=42)\n",
    "\n",
    "\n",
    "# Fit the model and print R2 and MSE for train and test\n",
    "reg = LinearRegression()\n",
    "reg.fit(X = X_train, y = y_train)\n",
    "\n",
    "r2_train = reg.score(X_train, y_train)\n",
    "y_hat_train = reg.predict(X_train)\n",
    "mse_train = mean_squared_error(y_train, y_hat_train)\n",
    "\n",
    "print(r2_train, mse_train)\n",
    "\n",
    "r2_test = reg.score(X_test, y_test)\n",
    "y_hat_test = reg.predict(X_test)\n",
    "mse_test = mean_squared_error(y_test, y_hat_test)\n",
    "\n",
    "print(r2_test, mse_test)"
   ]
  },
  {
   "cell_type": "markdown",
   "metadata": {},
   "source": [
    "## Normalize your data"
   ]
  },
  {
   "cell_type": "markdown",
   "metadata": {},
   "source": [
    "We haven't normalized our data, let's create a new model that uses `preprocessing.scale` to scale our predictors!"
   ]
  },
  {
   "cell_type": "code",
   "execution_count": 25,
   "metadata": {},
   "outputs": [],
   "source": [
    "from sklearn import preprocessing\n",
    "\n",
    "# Scale the data and perform train test split\n",
    "X_scaled = preprocessing.scale(X)\n",
    "y_scaled = preprocessing.scale(y)\n",
    "X_train, X_test, y_train, y_test = train_test_split(X_scaled, y_scaled, test_size=0.33, random_state=42)"
   ]
  },
  {
   "cell_type": "markdown",
   "metadata": {},
   "source": [
    "Perform the same linear regression on this data and print out R-squared and MSE."
   ]
  },
  {
   "cell_type": "code",
   "execution_count": 26,
   "metadata": {},
   "outputs": [
    {
     "name": "stdout",
     "output_type": "stream",
     "text": [
      "0.8118599286139094 0.17292774430356497\n",
      "0.7847972639958313 0.25050586134233366\n"
     ]
    }
   ],
   "source": [
    "\n",
    "# Fit the model and print R2 and MSE for train and test\n",
    "reg = LinearRegression()\n",
    "reg.fit(X = X_train, y = y_train)\n",
    "\n",
    "r2_train = reg.score(X_train, y_train)\n",
    "y_hat_train = reg.predict(X_train)\n",
    "mse_train = mean_squared_error(y_train, y_hat_train)\n",
    "\n",
    "print(r2_train, mse_train)\n",
    "\n",
    "r2_test = reg.score(X_test, y_test)\n",
    "y_hat_test = reg.predict(X_test)\n",
    "mse_test = mean_squared_error(y_test, y_hat_test)\n",
    "\n",
    "print(r2_test, mse_test)"
   ]
  },
  {
   "cell_type": "markdown",
   "metadata": {},
   "source": [
    "## Include dummy variables"
   ]
  },
  {
   "cell_type": "markdown",
   "metadata": {},
   "source": [
    "We haven't included dummy variables so far: let's use our \"object\" variables again and create dummies"
   ]
  },
  {
   "cell_type": "code",
   "execution_count": 29,
   "metadata": {},
   "outputs": [],
   "source": [
    "# Create X_cat which contains only the categorical variables\n",
    "X_cat = df.select_dtypes(include='object')"
   ]
  },
  {
   "cell_type": "code",
   "execution_count": 30,
   "metadata": {},
   "outputs": [],
   "source": [
    "# Make dummies\n",
    "X_cat = pd.get_dummies(X_cat)"
   ]
  },
  {
   "cell_type": "markdown",
   "metadata": {},
   "source": [
    "Merge `x_cat` together with our scaled `X` so you have one big predictor dataframe."
   ]
  },
  {
   "cell_type": "code",
   "execution_count": 39,
   "metadata": {},
   "outputs": [
    {
     "name": "stdout",
     "output_type": "stream",
     "text": [
      "(1460, 252) (1460, 37)\n"
     ]
    }
   ],
   "source": [
    "# Your code here\n",
    "print(X_cat.shape, X_scaled.shape)\n",
    "X = X_cat.merge(pd.DataFrame(X_scaled), left_index = True, right_index = True)\n",
    "X_train, X_test, y_train, y_test = train_test_split(X, y_scaled, test_size=0.33, random_state=42)"
   ]
  },
  {
   "cell_type": "markdown",
   "metadata": {},
   "source": [
    "Perform the same linear regression on this data and print out R-squared and MSE."
   ]
  },
  {
   "cell_type": "code",
   "execution_count": 40,
   "metadata": {},
   "outputs": [
    {
     "name": "stdout",
     "output_type": "stream",
     "text": [
      "0.9383758957065231 0.056641401651910124\n",
      "-7.103533726510368e+17 8.268839271166732e+17\n"
     ]
    }
   ],
   "source": [
    "# Your code here\n",
    "reg = LinearRegression()\n",
    "reg.fit(X = X_train, y = y_train)\n",
    "\n",
    "r2_train = reg.score(X_train, y_train)\n",
    "y_hat_train = reg.predict(X_train)\n",
    "mse_train = mean_squared_error(y_train, y_hat_train)\n",
    "\n",
    "print(r2_train, mse_train)\n",
    "\n",
    "r2_test = reg.score(X_test, y_test)\n",
    "y_hat_test = reg.predict(X_test)\n",
    "mse_test = mean_squared_error(y_test, y_hat_test)\n",
    "\n",
    "print(r2_test, mse_test)"
   ]
  },
  {
   "cell_type": "markdown",
   "metadata": {},
   "source": [
    "Notice the severe overfitting above; our training R squared is quite high, but the testing R squared is negative! Our predictions are far far off. Similarly, the scale of the Testing MSE is orders of magnitude higher then that of the training."
   ]
  },
  {
   "cell_type": "markdown",
   "metadata": {},
   "source": [
    "## Perform Ridge and Lasso regression"
   ]
  },
  {
   "cell_type": "markdown",
   "metadata": {},
   "source": [
    "Use all the data (normalized features and dummy categorical variables) and perform Lasso and Ridge regression for both! Each time, look at R-squared and MSE."
   ]
  },
  {
   "cell_type": "markdown",
   "metadata": {},
   "source": [
    "## Lasso"
   ]
  },
  {
   "cell_type": "markdown",
   "metadata": {},
   "source": [
    "With default parameter (alpha = 1)"
   ]
  },
  {
   "cell_type": "code",
   "execution_count": 44,
   "metadata": {},
   "outputs": [
    {
     "name": "stdout",
     "output_type": "stream",
     "text": [
      "[-0.  0. -0.  0. -0. -0.  0. -0. -0.  0.  0.  0. -0. -0.  0.  0. -0.  0.\n",
      " -0. -0.  0. -0.  0. -0. -0.  0.  0.  0. -0. -0. -0.  0.  0.  0. -0.  0.\n",
      " -0. -0. -0. -0. -0.  0.  0.  0. -0. -0. -0. -0.  0.  0.  0.  0. -0. -0.\n",
      "  0.  0.  0. -0.  0.  0.  0. -0. -0.  0.  0.  0.  0. -0.  0.  0. -0. -0.\n",
      " -0.  0. -0. -0. -0.  0. -0.  0. -0. -0.  0. -0. -0.  0. -0.  0. -0. -0.\n",
      "  0. -0. -0.  0.  0.  0. -0. -0. -0.  0. -0.  0. -0.  0. -0. -0.  0.  0.\n",
      "  0. -0. -0. -0. -0. -0.  0. -0.  0. -0. -0. -0.  0. -0. -0. -0.  0. -0.\n",
      " -0. -0.  0. -0.  0.  0. -0.  0. -0. -0. -0. -0. -0.  0. -0. -0.  0. -0.\n",
      " -0.  0.  0. -0.  0. -0. -0.  0. -0.  0.  0.  0.  0. -0. -0. -0.  0. -0.\n",
      " -0. -0.  0. -0.  0. -0. -0.  0. -0.  0. -0. -0. -0. -0.  0. -0. -0. -0.\n",
      " -0. -0.  0. -0. -0. -0.  0.  0.  0. -0.  0. -0. -0. -0. -0. -0.  0. -0.\n",
      "  0.  0. -0.  0. -0.  0. -0.  0. -0.  0. -0. -0.  0.  0. -0.  0. -0.  0.\n",
      " -0.  0. -0. -0.  0. -0.  0. -0. -0.  0.  0.  0.  0.  0. -0. -0. -0.  0.\n",
      " -0. -0.  0. -0.  0.  0. -0. -0. -0.  0. -0. -0. -0. -0.  0. -0. -0.  0.\n",
      " -0. -0.  0.  0.  0. -0.  0.  0.  0.  0. -0.  0.  0.  0.  0. -0.  0.  0.\n",
      " -0.  0.  0.  0. -0.  0.  0.  0.  0.  0.  0.  0. -0.  0.  0.  0. -0.  0.\n",
      " -0.]\n",
      "0.0 0.9191436094902522\n",
      "-1.9765701703367e-05 1.1640689027374227\n"
     ]
    }
   ],
   "source": [
    "# Your code here\n",
    "from sklearn.linear_model import Lasso, Ridge\n",
    "\n",
    "lasso = Lasso(alpha=1)\n",
    "lasso.fit(X_train, y_train)\n",
    "print(lasso.coef_)\n",
    "\n",
    "r2_train = lasso.score(X_train, y_train)\n",
    "y_hat_train = lasso.predict(X_train)\n",
    "mse_train = mean_squared_error(y_train, y_hat_train)\n",
    "\n",
    "print(r2_train, mse_train)\n",
    "\n",
    "r2_test = lasso.score(X_test, y_test)\n",
    "y_hat_test = lasso.predict(X_test)\n",
    "mse_test = mean_squared_error(y_test, y_hat_test)\n",
    "\n",
    "print(r2_test, mse_test)"
   ]
  },
  {
   "cell_type": "markdown",
   "metadata": {},
   "source": [
    "With a higher regularization parameter (alpha = 10)"
   ]
  },
  {
   "cell_type": "code",
   "execution_count": 45,
   "metadata": {},
   "outputs": [
    {
     "name": "stdout",
     "output_type": "stream",
     "text": [
      "[-0.  0. -0.  0. -0. -0.  0. -0. -0.  0.  0.  0. -0. -0.  0.  0. -0.  0.\n",
      " -0. -0.  0. -0.  0. -0. -0.  0.  0.  0. -0. -0. -0.  0.  0.  0. -0.  0.\n",
      " -0. -0. -0. -0. -0.  0.  0.  0. -0. -0. -0. -0.  0.  0.  0.  0. -0. -0.\n",
      "  0.  0.  0. -0.  0.  0.  0. -0. -0.  0.  0.  0.  0. -0.  0.  0. -0. -0.\n",
      " -0.  0. -0. -0. -0.  0. -0.  0. -0. -0.  0. -0. -0.  0. -0.  0. -0. -0.\n",
      "  0. -0. -0.  0.  0.  0. -0. -0. -0.  0. -0.  0. -0.  0. -0. -0.  0.  0.\n",
      "  0. -0. -0. -0. -0. -0.  0. -0.  0. -0. -0. -0.  0. -0. -0. -0.  0. -0.\n",
      " -0. -0.  0. -0.  0.  0. -0.  0. -0. -0. -0. -0. -0.  0. -0. -0.  0. -0.\n",
      " -0.  0.  0. -0.  0. -0. -0.  0. -0.  0.  0.  0.  0. -0. -0. -0.  0. -0.\n",
      " -0. -0.  0. -0.  0. -0. -0.  0. -0.  0. -0. -0. -0. -0.  0. -0. -0. -0.\n",
      " -0. -0.  0. -0. -0. -0.  0.  0.  0. -0.  0. -0. -0. -0. -0. -0.  0. -0.\n",
      "  0.  0. -0.  0. -0.  0. -0.  0. -0.  0. -0. -0.  0.  0. -0.  0. -0.  0.\n",
      " -0.  0. -0. -0.  0. -0.  0. -0. -0.  0.  0.  0.  0.  0. -0. -0. -0.  0.\n",
      " -0. -0.  0. -0.  0.  0. -0. -0. -0.  0. -0. -0. -0. -0.  0. -0. -0.  0.\n",
      " -0. -0.  0.  0.  0. -0.  0.  0.  0.  0. -0.  0.  0.  0.  0. -0.  0.  0.\n",
      " -0.  0.  0.  0. -0.  0.  0.  0.  0.  0.  0.  0. -0.  0.  0.  0. -0.  0.\n",
      " -0.]\n",
      "0.0 0.9191436094902522\n",
      "-1.9765701703367e-05 1.1640689027374227\n"
     ]
    }
   ],
   "source": [
    "# Your code here\n",
    "\n",
    "lasso = Lasso(alpha=10)\n",
    "lasso.fit(X_train, y_train)\n",
    "print(lasso.coef_)\n",
    "\n",
    "r2_train = lasso.score(X_train, y_train)\n",
    "y_hat_train = lasso.predict(X_train)\n",
    "mse_train = mean_squared_error(y_train, y_hat_train)\n",
    "\n",
    "print(r2_train, mse_train)\n",
    "\n",
    "r2_test = lasso.score(X_test, y_test)\n",
    "y_hat_test = lasso.predict(X_test)\n",
    "mse_test = mean_squared_error(y_test, y_hat_test)\n",
    "\n",
    "print(r2_test, mse_test)"
   ]
  },
  {
   "cell_type": "markdown",
   "metadata": {},
   "source": [
    "## Ridge"
   ]
  },
  {
   "cell_type": "markdown",
   "metadata": {},
   "source": [
    "With default parameter (alpha = 1)"
   ]
  },
  {
   "cell_type": "code",
   "execution_count": 46,
   "metadata": {},
   "outputs": [
    {
     "name": "stdout",
     "output_type": "stream",
     "text": [
      "[-1.66802197e-01  1.44125204e-01 -3.65031383e-02  4.02001295e-02\n",
      "  1.89800015e-02 -2.54293710e-01  2.54293710e-01  5.35188722e-03\n",
      "  1.48943295e-01  9.42359673e-04  5.71656841e-02 -7.70401010e-02\n",
      "  1.89320572e-02 -1.79693688e-01  2.06970054e-01 -8.44099393e-02\n",
      "  5.71335725e-02  1.66732974e-01 -1.66732974e-01  2.76889476e-02\n",
      "  1.45849931e-01 -7.49161962e-02 -1.12705079e-01  1.40823965e-02\n",
      "  2.71296494e-02  1.05902975e-01 -1.33032624e-01  1.10106741e-02\n",
      " -2.75259307e-02  9.35931062e-02 -2.57432127e-03 -7.29401656e-02\n",
      " -5.97742289e-02  1.63501113e-01 -2.36024953e-01 -8.42117903e-02\n",
      " -1.95273306e-01 -6.66403614e-02 -2.02327967e-01 -1.64038215e-01\n",
      "  1.03970219e-01 -1.45914929e-01  3.73758134e-01  3.30815730e-01\n",
      " -1.84508041e-01 -5.47357183e-02 -7.33283347e-02 -4.02303413e-02\n",
      "  1.06615639e-02  5.30620174e-01 -6.99995108e-02  6.21173998e-02\n",
      " -3.35565239e-02 -6.71973816e-03  1.06880933e-01 -3.54747970e-02\n",
      "  1.46787343e-02 -1.94579174e-01  4.95844527e-02  3.73312125e-02\n",
      "  6.18549003e-02  3.05445872e-01  2.35937442e-01  3.71850887e-01\n",
      "  0.00000000e+00 -1.06681564e+00 -8.80022127e-02  2.41583652e-01\n",
      "  0.00000000e+00  2.47641458e-01  7.00700847e-02  4.39296986e-02\n",
      " -2.03204045e-01 -1.58437196e-01  1.22827189e-02  1.63800338e-01\n",
      "  1.64790491e-01 -8.17781083e-02 -3.57946159e-02 -1.18969767e-01\n",
      " -5.93650730e-02 -4.49659841e-02  1.43685903e-01 -1.77198371e-01\n",
      " -1.00913986e-01 -1.52748241e-01  1.30415059e-01  1.56759635e-01\n",
      " -1.60983671e+00  3.02269309e-01  0.00000000e+00  7.27425837e-02\n",
      "  1.52596892e-01  1.28948340e-01  2.61576059e-01  6.91703523e-01\n",
      "  6.56022327e-02 -6.76424487e-02  1.41973831e-01  2.05644673e-01\n",
      " -4.88630763e-02  1.56080500e-02 -1.47934552e-02  0.00000000e+00\n",
      "  4.25397490e-02  4.78601741e-02  4.32515155e-02 -1.18330199e-01\n",
      " -7.19312835e-02 -1.34280810e-01 -1.06638953e-01 -8.96847423e-03\n",
      "  7.59722379e-02 -4.96780770e-02  1.07453162e-01 -4.88630763e-02\n",
      "  4.91041479e-02 -2.34056174e-02  1.58431897e-02 -5.85304939e-02\n",
      " -1.24768496e-01 -9.33333650e-02 -3.31946069e-02  5.30560228e-02\n",
      "  4.64654711e-02  1.32165121e-01 -3.93171451e-02 -1.05937045e-01\n",
      " -7.74523519e-03  3.54398986e-02  4.75924217e-02  1.20270181e-01\n",
      "  9.63512742e-02 -8.79708242e-02 -1.28650631e-01  8.98967598e-03\n",
      "  1.93212179e-03  1.22522587e-02 -4.77068184e-02  2.45327619e-02\n",
      " -1.02750650e-02  7.45755068e-02  8.99029005e-02 -1.09531279e-01\n",
      "  4.64626169e-02 -9.11346806e-02  2.75026420e-01 -5.49349277e-03\n",
      " -6.26690126e-02 -7.35314480e-02 -3.28950654e-02  1.25044294e-03\n",
      "  7.53576883e-02  8.96194007e-02  4.73055620e-03  2.26916143e-01\n",
      " -3.86052415e-02 -5.97089909e-02  2.45426992e-02  2.39900351e-02\n",
      "  8.82332273e-02 -6.43500452e-03  4.63335707e-02 -4.33320612e-02\n",
      "  7.75221405e-02 -4.77006986e-02  3.00640835e-02  1.84938895e-02\n",
      "  8.48377804e-03  4.64692736e-02  2.19730554e-02  7.94542717e-02\n",
      "  1.23199157e-02  3.55645050e-02 -2.64356544e-01  1.15044796e-01\n",
      "  4.72522155e-02  2.30480022e-02 -2.81431562e-02 -4.77716847e-02\n",
      "  5.61462321e-03 -8.48325358e-03  8.48325358e-03 -3.16260610e-02\n",
      " -4.46914402e-02 -3.72971706e-02  0.00000000e+00 -3.05973769e-02\n",
      "  1.75576440e-01  1.04118648e-02 -7.79462172e-02 -1.08042088e-01\n",
      "  7.51957102e-02 -1.59528218e-01 -1.72475203e-02  7.81865105e-02\n",
      "  1.41396806e-01 -3.03426697e-01  1.85423409e-01  4.04752475e-02\n",
      " -1.99751081e-02 -2.82963608e-02 -8.17619862e-03  3.87888346e-02\n",
      " -1.61638428e-01 -2.58322641e-02  5.22855776e-02 -3.16866049e-02\n",
      "  8.08415775e-02 -2.41172825e-02 -4.21681895e-02 -5.08318788e-02\n",
      " -1.71473561e-02  3.52730966e-01 -1.96248496e-01  2.71564045e-02\n",
      " -1.37071929e-01 -1.56714370e-01 -2.10555908e-01 -4.13799212e-03\n",
      "  2.79539986e-02  3.23024687e-02  4.42900079e-02 -3.89857539e-03\n",
      "  2.38642189e-03  1.51215349e-03  7.41590816e-02 -5.29743336e-02\n",
      " -5.78025530e-01  1.94166035e-02 -1.30920864e-02  2.08378189e-02\n",
      " -7.44969656e-02 -8.80022127e-02 -4.30079695e-02 -4.58543941e-02\n",
      " -5.29743336e-02 -1.42635834e-01  1.07379581e-01  2.02138986e-01\n",
      "  8.23665328e-02 -7.92667000e-02  5.55765954e-02 -6.62380586e-02\n",
      "  2.81461899e-03 -1.62135722e-01 -1.54229414e-01  4.22505967e-03\n",
      "  3.50750162e-01 -1.17905660e-01 -6.75088521e-02 -1.53312966e-02\n",
      " -4.03822650e-03  8.86675405e-03 -3.19029428e-02  7.39754873e-02\n",
      "  1.39830535e-01  5.42037734e-02  6.61765622e-02  2.55598507e-02\n",
      "  4.26290224e-02  1.32397214e-02  1.02738634e-02  9.46836232e-04\n",
      "  1.84961499e-02  4.30401716e-02  1.28990127e-01  1.31157203e-02\n",
      "  1.40032606e-01  4.28658518e-02 -2.14513916e-04  4.81830267e-02\n",
      "  2.16495176e-02 -2.71271345e-02 -3.93964787e-02  8.91453072e-02\n",
      "  3.49969035e-02 -2.15091690e-02  9.21765103e-02  3.89662778e-02\n",
      "  2.97024286e-02 -3.07408795e-03  1.47227899e-02  2.12635219e-02\n",
      "  4.20388533e-02 -1.91516951e-02  1.44173674e-03 -5.08303765e-03\n",
      " -1.43509024e-03]\n",
      "0.9241379330026553 0.06972813408333069\n",
      "0.8643679188115281 0.15788196727718803\n"
     ]
    }
   ],
   "source": [
    "# Your code here\n",
    "ridge = Ridge(alpha=1)\n",
    "ridge.fit(X_train, y_train)\n",
    "print(ridge.coef_)\n",
    "\n",
    "r2_train = ridge.score(X_train, y_train)\n",
    "y_hat_train = ridge.predict(X_train)\n",
    "mse_train = mean_squared_error(y_train, y_hat_train)\n",
    "\n",
    "print(r2_train, mse_train)\n",
    "\n",
    "r2_test = ridge.score(X_test, y_test)\n",
    "y_hat_test = ridge.predict(X_test)\n",
    "mse_test = mean_squared_error(y_test, y_hat_test)\n",
    "\n",
    "print(r2_test, mse_test)"
   ]
  },
  {
   "cell_type": "markdown",
   "metadata": {},
   "source": [
    "With default parameter (alpha = 10)"
   ]
  },
  {
   "cell_type": "code",
   "execution_count": 47,
   "metadata": {},
   "outputs": [
    {
     "name": "stdout",
     "output_type": "stream",
     "text": [
      "[-5.50853084e-02  7.47869426e-02 -1.13343480e-02  3.56939807e-02\n",
      " -4.40612670e-02 -7.05235489e-02  7.05235489e-02 -1.49607784e-02\n",
      "  7.84735680e-02  5.26076029e-03  6.42563322e-02 -8.38554693e-02\n",
      "  1.43383768e-02 -1.81743723e-01  1.69917495e-01 -2.11392168e-02\n",
      "  3.29654450e-02  4.39194581e-02 -4.39194581e-02 -3.67442727e-03\n",
      "  1.10110702e-01 -7.17716818e-02 -2.45101345e-02 -1.01544586e-02\n",
      " -2.61938618e-02  5.90015724e-02 -3.28077106e-02 -7.23975418e-02\n",
      " -8.16940539e-03  3.66950511e-02  6.03459336e-02 -2.98373930e-02\n",
      " -7.06748602e-02  1.49688773e-01 -1.74921677e-01 -9.45568011e-02\n",
      " -7.71745701e-02 -1.87217052e-02 -1.32841825e-01 -1.11097517e-01\n",
      "  5.49170839e-03 -8.71983997e-02  2.64948803e-01  2.33593609e-01\n",
      " -7.53147379e-02 -3.52395620e-02 -3.80096325e-02 -4.01581083e-02\n",
      "  3.21103107e-02  3.09097734e-01 -7.51506104e-02  4.94924239e-02\n",
      "  2.53916616e-03 -1.46773565e-02  1.23967748e-01 -7.00037143e-03\n",
      " -5.44934727e-02 -8.76064993e-02  3.47323343e-02  8.57125070e-03\n",
      " -6.03279954e-03  4.79431427e-02  1.68444684e-02  1.60706370e-01\n",
      "  0.00000000e+00 -2.45616425e-01 -9.61808646e-03  2.97405307e-02\n",
      "  0.00000000e+00  8.79435526e-02  8.80501348e-02 -1.14399008e-02\n",
      " -9.79686706e-02 -6.65851160e-02 -1.19175511e-02  6.17767144e-02\n",
      "  1.13532954e-01 -1.33407113e-02 -2.80402690e-02 -9.98466029e-02\n",
      " -9.72887005e-03 -1.24356643e-02  4.37852489e-02 -6.51435968e-02\n",
      " -7.96409830e-03 -3.62147052e-02  4.72494356e-02  1.82877159e-02\n",
      " -2.59855018e-01  4.86503496e-02  0.00000000e+00 -5.80353424e-03\n",
      "  8.36520390e-03  3.20078812e-02  2.34315767e-02  1.53203541e-01\n",
      "  1.17871998e-02 -1.10743622e-02  1.42157741e-02  1.79561091e-01\n",
      " -3.07717287e-03  3.63592517e-02 -2.85009244e-02  0.00000000e+00\n",
      "  1.38123121e-02  1.08227788e-02  1.18131458e-02 -7.19413946e-02\n",
      " -2.38255953e-02 -8.90986127e-02 -5.08534908e-02  1.06004380e-02\n",
      "  1.46475167e-02 -1.61726838e-02  8.17159171e-02 -3.07717287e-03\n",
      "  3.71295268e-03 -4.06747386e-03 -1.33568134e-03 -3.28116112e-02\n",
      " -8.54160098e-03 -5.87002473e-02 -4.36735241e-03 -1.86241461e-02\n",
      "  1.14918199e-02  8.59302647e-02 -6.04009392e-02 -7.06044148e-02\n",
      " -8.02848336e-03  4.74074978e-02  3.25296300e-02  1.05255243e-01\n",
      "  3.08457173e-02 -3.08736153e-02 -1.05227345e-01 -2.77112921e-03\n",
      "  2.15693815e-02 -6.03297286e-03 -1.41366697e-02  1.37139027e-03\n",
      " -4.26930676e-02  4.29201305e-02  6.71756428e-02 -5.64740175e-02\n",
      "  1.13491232e-02 -2.22778113e-02  2.54147153e-01 -2.44307819e-02\n",
      " -6.64347900e-02 -7.47695196e-02 -2.01098929e-02  6.67393544e-03\n",
      "  1.01595135e-02  9.17885051e-02 -9.00286908e-03  1.92427807e-01\n",
      " -2.58481312e-02 -6.90647455e-02  2.46114133e-02  2.43010624e-02\n",
      "  8.56821964e-02 -1.37295449e-02  2.25596753e-02 -5.49127415e-02\n",
      "  5.47946665e-02 -3.79668878e-02 -4.96969068e-03  2.75103215e-02\n",
      " -1.08902727e-02  6.00339244e-02 -6.02151096e-04  2.27608676e-02\n",
      "  2.93279541e-02  1.94978310e-02 -7.30967919e-02  2.11229028e-03\n",
      "  3.64022202e-02 -1.82431215e-04 -3.15376881e-02 -1.48406949e-02\n",
      "  1.01585940e-02 -8.43354425e-03  8.43354425e-03 -3.22066068e-03\n",
      " -1.65640867e-02 -4.52742830e-03  0.00000000e+00  4.81919656e-03\n",
      "  1.67984172e-01  1.19541833e-02 -7.16871983e-02 -1.08251157e-01\n",
      " -1.35662589e-02 -6.51037328e-02 -4.64951929e-02 -8.83382979e-03\n",
      "  5.81353051e-02 -4.50278369e-02  1.20891546e-01  9.74011566e-02\n",
      " -2.42106948e-02 -2.34009557e-02 -8.97006931e-03  3.07914100e-02\n",
      " -7.24905858e-02 -7.74179192e-03  3.82406542e-02 -2.70011018e-03\n",
      " -4.91245850e-03 -1.67428656e-02 -2.62223241e-02 -3.11357123e-02\n",
      " -8.98912138e-03  8.66792423e-02 -1.07601667e-01  7.64234400e-02\n",
      " -1.58155895e-02 -1.06032584e-01 -1.15893924e-03 -4.54695414e-02\n",
      " -3.76818989e-04 -8.31423138e-03 -1.10276267e-02 -7.05499347e-03\n",
      " -2.08752658e-03  9.14252005e-03  3.96032884e-02  1.07377519e-02\n",
      " -1.28351215e-01  2.01813595e-02 -1.12453714e-02  1.81533399e-02\n",
      " -3.06384418e-02 -9.61808646e-03 -6.98512587e-03 -4.16643510e-02\n",
      "  1.07377519e-02 -8.23171210e-02  5.27468576e-02  3.73875657e-02\n",
      "  4.30403557e-02 -1.12434743e-02  2.16673333e-02  1.72682542e-02\n",
      "  7.00780903e-03 -8.55575802e-02 -9.38272408e-02  4.79248587e-03\n",
      "  1.39370862e-01 -5.75050545e-02 -2.25827705e-02  2.97517174e-02\n",
      " -9.70501052e-03 -6.53518627e-02 -4.47732977e-02  5.55083848e-02\n",
      "  1.74442141e-01  5.30945070e-02  4.66396150e-02  2.49038864e-02\n",
      "  4.41214333e-02 -3.53199491e-03  1.26281290e-02  1.90238675e-03\n",
      "  2.88764743e-03  4.15946388e-02  1.09796685e-01  1.85513343e-02\n",
      "  1.23527686e-01  5.82732025e-02 -3.92455267e-04  5.57687129e-02\n",
      "  2.97149565e-02 -2.33717601e-02 -3.65419242e-02  1.10455755e-01\n",
      "  4.17087122e-02 -1.64207084e-02  1.16147251e-01  1.89642688e-02\n",
      "  3.34572859e-02 -1.06366637e-02  1.75850408e-02  2.15396633e-02\n",
      "  4.71146819e-02 -4.55842611e-02 -1.79302901e-03 -1.44996596e-03\n",
      " -4.34829963e-04]\n",
      "0.903768139193387 0.08845089988975378\n",
      "0.848166500195183 0.17674116210348706\n"
     ]
    }
   ],
   "source": [
    "# Your code here\n",
    "ridge = Ridge(alpha=10)\n",
    "ridge.fit(X_train, y_train)\n",
    "print(ridge.coef_)\n",
    "\n",
    "r2_train = ridge.score(X_train, y_train)\n",
    "y_hat_train = ridge.predict(X_train)\n",
    "mse_train = mean_squared_error(y_train, y_hat_train)\n",
    "\n",
    "print(r2_train, mse_train)\n",
    "\n",
    "r2_test = ridge.score(X_test, y_test)\n",
    "y_hat_test = ridge.predict(X_test)\n",
    "mse_test = mean_squared_error(y_test, y_hat_test)\n",
    "\n",
    "print(r2_test, mse_test)"
   ]
  },
  {
   "cell_type": "markdown",
   "metadata": {},
   "source": [
    "## Look at the metrics, what are your main conclusions?"
   ]
  },
  {
   "cell_type": "markdown",
   "metadata": {},
   "source": [
    "Conclusions here"
   ]
  },
  {
   "cell_type": "markdown",
   "metadata": {},
   "source": [
    "## Compare number of parameter estimates that are (very close to) 0 for Ridge and Lasso"
   ]
  },
  {
   "cell_type": "code",
   "execution_count": null,
   "metadata": {},
   "outputs": [],
   "source": [
    "# number of Ridge params almost zero\n"
   ]
  },
  {
   "cell_type": "code",
   "execution_count": null,
   "metadata": {},
   "outputs": [],
   "source": [
    "# number of Lasso params almost zero"
   ]
  },
  {
   "cell_type": "markdown",
   "metadata": {},
   "source": [
    "Compare with the total length of the parameter space and draw conclusions!"
   ]
  },
  {
   "cell_type": "code",
   "execution_count": null,
   "metadata": {},
   "outputs": [],
   "source": [
    "# your code here"
   ]
  },
  {
   "cell_type": "markdown",
   "metadata": {},
   "source": [
    "## Summary"
   ]
  },
  {
   "cell_type": "markdown",
   "metadata": {},
   "source": [
    "Great! You now know how to perform Lasso and Ridge regression."
   ]
  }
 ],
 "metadata": {
  "kernelspec": {
   "display_name": "Python 3",
   "language": "python",
   "name": "python3"
  },
  "language_info": {
   "codemirror_mode": {
    "name": "ipython",
    "version": 3
   },
   "file_extension": ".py",
   "mimetype": "text/x-python",
   "name": "python",
   "nbconvert_exporter": "python",
   "pygments_lexer": "ipython3",
   "version": "3.6.6"
  }
 },
 "nbformat": 4,
 "nbformat_minor": 2
}
